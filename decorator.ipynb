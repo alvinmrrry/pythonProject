{
 "cells": [
  {
   "cell_type": "code",
   "execution_count": 1,
   "metadata": {
    "collapsed": false,
    "pycharm": {
     "name": "#%%\n"
    }
   },
   "outputs": [
    {
     "name": "stdout",
     "output_type": "stream",
     "text": [
      "1\n",
      "2\n",
      "3\n",
      "4\n",
      "before\n",
      "you are using +++++\n",
      "add\n",
      "after\n",
      "3\n"
     ]
    },
    {
     "ename": "KeyboardInterrupt",
     "evalue": "",
     "output_type": "error",
     "traceback": [
      "\u001B[0;31m---------------------------------------------------------------------------\u001B[0m",
      "\u001B[0;31mKeyboardInterrupt\u001B[0m                         Traceback (most recent call last)",
      "Input \u001B[0;32mIn [1]\u001B[0m, in \u001B[0;36m<cell line: 21>\u001B[0;34m()\u001B[0m\n\u001B[1;32m     19\u001B[0m     \u001B[38;5;28;01mreturn\u001B[39;00m a \u001B[38;5;241m+\u001B[39m b\n\u001B[1;32m     20\u001B[0m \u001B[38;5;28mprint\u001B[39m(\u001B[38;5;241m4\u001B[39m)\n\u001B[0;32m---> 21\u001B[0m \u001B[38;5;28mprint\u001B[39m(add(\u001B[38;5;241m1\u001B[39m, \u001B[38;5;241m2\u001B[39m,\u001B[38;5;241m3\u001B[39m,\u001B[38;5;241m43\u001B[39m))\n",
      "File \u001B[0;32m~/PycharmProjects/pythonProject/venv/lib/python3.10/site-packages/IPython/core/displayhook.py:258\u001B[0m, in \u001B[0;36mDisplayHook.__call__\u001B[0;34m(self, result)\u001B[0m\n\u001B[1;32m    252\u001B[0m \u001B[38;5;28;01mdef\u001B[39;00m \u001B[38;5;21m__call__\u001B[39m(\u001B[38;5;28mself\u001B[39m, result\u001B[38;5;241m=\u001B[39m\u001B[38;5;28;01mNone\u001B[39;00m):\n\u001B[1;32m    253\u001B[0m     \u001B[38;5;124;03m\"\"\"Printing with history cache management.\u001B[39;00m\n\u001B[1;32m    254\u001B[0m \n\u001B[1;32m    255\u001B[0m \u001B[38;5;124;03m    This is invoked every time the interpreter needs to print, and is\u001B[39;00m\n\u001B[1;32m    256\u001B[0m \u001B[38;5;124;03m    activated by setting the variable sys.displayhook to it.\u001B[39;00m\n\u001B[1;32m    257\u001B[0m \u001B[38;5;124;03m    \"\"\"\u001B[39;00m\n\u001B[0;32m--> 258\u001B[0m     \u001B[38;5;28;43mself\u001B[39;49m\u001B[38;5;241m.\u001B[39mcheck_for_underscore()\n\u001B[1;32m    259\u001B[0m     \u001B[38;5;28;01mif\u001B[39;00m result \u001B[38;5;129;01mis\u001B[39;00m \u001B[38;5;129;01mnot\u001B[39;00m \u001B[38;5;28;01mNone\u001B[39;00m \u001B[38;5;129;01mand\u001B[39;00m \u001B[38;5;129;01mnot\u001B[39;00m \u001B[38;5;28mself\u001B[39m\u001B[38;5;241m.\u001B[39mquiet():\n\u001B[1;32m    260\u001B[0m         \u001B[38;5;28mself\u001B[39m\u001B[38;5;241m.\u001B[39mstart_displayhook()\n",
      "File \u001B[0;32m~/PycharmProjects/pythonProject/venv/lib/python3.10/site-packages/IPython/core/displayhook.py:258\u001B[0m, in \u001B[0;36mDisplayHook.__call__\u001B[0;34m(self, result)\u001B[0m\n\u001B[1;32m    252\u001B[0m \u001B[38;5;28;01mdef\u001B[39;00m \u001B[38;5;21m__call__\u001B[39m(\u001B[38;5;28mself\u001B[39m, result\u001B[38;5;241m=\u001B[39m\u001B[38;5;28;01mNone\u001B[39;00m):\n\u001B[1;32m    253\u001B[0m     \u001B[38;5;124;03m\"\"\"Printing with history cache management.\u001B[39;00m\n\u001B[1;32m    254\u001B[0m \n\u001B[1;32m    255\u001B[0m \u001B[38;5;124;03m    This is invoked every time the interpreter needs to print, and is\u001B[39;00m\n\u001B[1;32m    256\u001B[0m \u001B[38;5;124;03m    activated by setting the variable sys.displayhook to it.\u001B[39;00m\n\u001B[1;32m    257\u001B[0m \u001B[38;5;124;03m    \"\"\"\u001B[39;00m\n\u001B[0;32m--> 258\u001B[0m     \u001B[38;5;28;43mself\u001B[39;49m\u001B[38;5;241m.\u001B[39mcheck_for_underscore()\n\u001B[1;32m    259\u001B[0m     \u001B[38;5;28;01mif\u001B[39;00m result \u001B[38;5;129;01mis\u001B[39;00m \u001B[38;5;129;01mnot\u001B[39;00m \u001B[38;5;28;01mNone\u001B[39;00m \u001B[38;5;129;01mand\u001B[39;00m \u001B[38;5;129;01mnot\u001B[39;00m \u001B[38;5;28mself\u001B[39m\u001B[38;5;241m.\u001B[39mquiet():\n\u001B[1;32m    260\u001B[0m         \u001B[38;5;28mself\u001B[39m\u001B[38;5;241m.\u001B[39mstart_displayhook()\n",
      "File \u001B[0;32m/Applications/PyCharm.app/Contents/plugins/python/helpers/pydev/_pydevd_bundle/pydevd_frame.py:880\u001B[0m, in \u001B[0;36mPyDBFrame.trace_dispatch\u001B[0;34m(self, frame, event, arg)\u001B[0m\n\u001B[1;32m    877\u001B[0m             stop \u001B[38;5;241m=\u001B[39m \u001B[38;5;28;01mFalse\u001B[39;00m\n\u001B[1;32m    879\u001B[0m \u001B[38;5;28;01mif\u001B[39;00m plugin_stop:\n\u001B[0;32m--> 880\u001B[0m     stopped_on_plugin \u001B[38;5;241m=\u001B[39m \u001B[43mplugin_manager\u001B[49m\u001B[38;5;241;43m.\u001B[39;49m\u001B[43mstop\u001B[49m\u001B[43m(\u001B[49m\u001B[43mmain_debugger\u001B[49m\u001B[43m,\u001B[49m\u001B[43m \u001B[49m\u001B[43mframe\u001B[49m\u001B[43m,\u001B[49m\u001B[43m \u001B[49m\u001B[43mevent\u001B[49m\u001B[43m,\u001B[49m\u001B[43m \u001B[49m\u001B[38;5;28;43mself\u001B[39;49m\u001B[38;5;241;43m.\u001B[39;49m\u001B[43m_args\u001B[49m\u001B[43m,\u001B[49m\u001B[43m \u001B[49m\u001B[43mstop_info\u001B[49m\u001B[43m,\u001B[49m\u001B[43m \u001B[49m\u001B[43marg\u001B[49m\u001B[43m,\u001B[49m\u001B[43m \u001B[49m\u001B[43mstep_cmd\u001B[49m\u001B[43m)\u001B[49m\n\u001B[1;32m    881\u001B[0m \u001B[38;5;28;01melif\u001B[39;00m stop:\n\u001B[1;32m    882\u001B[0m     \u001B[38;5;28;01mif\u001B[39;00m is_line:\n",
      "File \u001B[0;32m/Applications/PyCharm.app/Contents/plugins/python/helpers-pro/jupyter_debug/pydev_jupyter_plugin.py:169\u001B[0m, in \u001B[0;36mstop\u001B[0;34m(plugin, pydb, frame, event, args, stop_info, arg, step_cmd)\u001B[0m\n\u001B[1;32m    167\u001B[0m     frame \u001B[38;5;241m=\u001B[39m suspend_jupyter(main_debugger, thread, frame, step_cmd)\n\u001B[1;32m    168\u001B[0m     \u001B[38;5;28;01mif\u001B[39;00m frame:\n\u001B[0;32m--> 169\u001B[0m         \u001B[43mmain_debugger\u001B[49m\u001B[38;5;241;43m.\u001B[39;49m\u001B[43mdo_wait_suspend\u001B[49m\u001B[43m(\u001B[49m\u001B[43mthread\u001B[49m\u001B[43m,\u001B[49m\u001B[43m \u001B[49m\u001B[43mframe\u001B[49m\u001B[43m,\u001B[49m\u001B[43m \u001B[49m\u001B[43mevent\u001B[49m\u001B[43m,\u001B[49m\u001B[43m \u001B[49m\u001B[43marg\u001B[49m\u001B[43m)\u001B[49m\n\u001B[1;32m    170\u001B[0m         \u001B[38;5;28;01mreturn\u001B[39;00m \u001B[38;5;28;01mTrue\u001B[39;00m\n\u001B[1;32m    171\u001B[0m \u001B[38;5;28;01mreturn\u001B[39;00m \u001B[38;5;28;01mFalse\u001B[39;00m\n",
      "File \u001B[0;32m/Applications/PyCharm.app/Contents/plugins/python/helpers/pydev/pydevd.py:1155\u001B[0m, in \u001B[0;36mPyDB.do_wait_suspend\u001B[0;34m(self, thread, frame, event, arg, send_suspend_message, is_unhandled_exception)\u001B[0m\n\u001B[1;32m   1152\u001B[0m         from_this_thread\u001B[38;5;241m.\u001B[39mappend(frame_id)\n\u001B[1;32m   1154\u001B[0m \u001B[38;5;28;01mwith\u001B[39;00m \u001B[38;5;28mself\u001B[39m\u001B[38;5;241m.\u001B[39m_threads_suspended_single_notification\u001B[38;5;241m.\u001B[39mnotify_thread_suspended(thread_id, stop_reason):\n\u001B[0;32m-> 1155\u001B[0m     \u001B[38;5;28;43mself\u001B[39;49m\u001B[38;5;241;43m.\u001B[39;49m\u001B[43m_do_wait_suspend\u001B[49m\u001B[43m(\u001B[49m\u001B[43mthread\u001B[49m\u001B[43m,\u001B[49m\u001B[43m \u001B[49m\u001B[43mframe\u001B[49m\u001B[43m,\u001B[49m\u001B[43m \u001B[49m\u001B[43mevent\u001B[49m\u001B[43m,\u001B[49m\u001B[43m \u001B[49m\u001B[43marg\u001B[49m\u001B[43m,\u001B[49m\u001B[43m \u001B[49m\u001B[43msuspend_type\u001B[49m\u001B[43m,\u001B[49m\u001B[43m \u001B[49m\u001B[43mfrom_this_thread\u001B[49m\u001B[43m)\u001B[49m\n",
      "File \u001B[0;32m/Applications/PyCharm.app/Contents/plugins/python/helpers/pydev/pydevd.py:1170\u001B[0m, in \u001B[0;36mPyDB._do_wait_suspend\u001B[0;34m(self, thread, frame, event, arg, suspend_type, from_this_thread)\u001B[0m\n\u001B[1;32m   1167\u001B[0m             \u001B[38;5;28mself\u001B[39m\u001B[38;5;241m.\u001B[39m_call_mpl_hook()\n\u001B[1;32m   1169\u001B[0m         \u001B[38;5;28mself\u001B[39m\u001B[38;5;241m.\u001B[39mprocess_internal_commands()\n\u001B[0;32m-> 1170\u001B[0m         \u001B[43mtime\u001B[49m\u001B[38;5;241;43m.\u001B[39;49m\u001B[43msleep\u001B[49m\u001B[43m(\u001B[49m\u001B[38;5;241;43m0.01\u001B[39;49m\u001B[43m)\u001B[49m\n\u001B[1;32m   1172\u001B[0m \u001B[38;5;28mself\u001B[39m\u001B[38;5;241m.\u001B[39mcancel_async_evaluation(get_current_thread_id(thread), \u001B[38;5;28mstr\u001B[39m(\u001B[38;5;28mid\u001B[39m(frame)))\n\u001B[1;32m   1174\u001B[0m \u001B[38;5;66;03m# process any stepping instructions\u001B[39;00m\n",
      "\u001B[0;31mKeyboardInterrupt\u001B[0m: "
     ]
    }
   ],
   "source": [
    "def decorator (flag):\n",
    "    print(2)\n",
    "    def dec(func):\n",
    "        print(3)\n",
    "        def inner(*args, **kwargs):\n",
    "            print('before')\n",
    "            if flag == '+':\n",
    "                print('you are using +++++')\n",
    "            res = func(*args, **kwargs)\n",
    "            print('after')\n",
    "            return res\n",
    "\n",
    "        return inner\n",
    "    return dec\n",
    "print(1)\n",
    "@decorator('+')\n",
    "def add(a, b, c, d):\n",
    "    print(\"add\")\n",
    "    return a + b\n",
    "print(4)\n",
    "print(add(1, 2,3,43))"
   ]
  },
  {
   "cell_type": "code",
   "execution_count": 37,
   "metadata": {
    "collapsed": false,
    "pycharm": {
     "name": "#%%\n"
    }
   },
   "outputs": [
    {
     "name": "stdout",
     "output_type": "stream",
     "text": [
      "--正在努力加法计算--\n",
      "3\n",
      "--正在努力减法计算--\n",
      "-1\n"
     ]
    }
   ],
   "source": [
    "# 添加输出日志的功能\n",
    "def logging(flag):\n",
    "\n",
    "    def decorator(fn):\n",
    "        def inner(num1, num2):\n",
    "            if flag == \"+\":\n",
    "                print(\"--正在努力加法计算--\")\n",
    "            elif flag == \"-\":\n",
    "                print(\"--正在努力减法计算--\")\n",
    "            result = fn(num1, num2)\n",
    "            return result\n",
    "        return inner\n",
    "\n",
    "    # 返回装饰器\n",
    "    return decorator\n",
    "\n",
    "\n",
    "# 使用装饰器装饰函数\n",
    "@logging(\"+\")\n",
    "def add(a, b):\n",
    "    result = a + b\n",
    "    return result\n",
    "\n",
    "\n",
    "@logging(\"-\")\n",
    "def sub(a, b):\n",
    "    result = a - b\n",
    "    return result\n",
    "\n",
    "result = add(1, 2)\n",
    "print(result)\n",
    "\n",
    "result = sub(1, 2)\n",
    "print(result)"
   ]
  },
  {
   "cell_type": "code",
   "execution_count": 1,
   "outputs": [
    {
     "name": "stdout",
     "output_type": "stream",
     "text": [
      "开始装饰1\n",
      "my_func1\n",
      "结束装饰1\n",
      "开始装饰2\n",
      "func2\n",
      "结束装饰2\n",
      "开始装饰3\n",
      "my_func3\n",
      "结束装束3\n",
      "开始装饰4\n",
      "my_func4\n",
      "结束装饰4\n"
     ]
    }
   ],
   "source": [
    "#定义一个装饰类\n",
    "class DeracotorClass:\n",
    "\n",
    "    def deracotor1(self,func): # 因为该装饰方法是定义在类中所以这里需要加一个self\n",
    "\n",
    "        def inner(other_self):\n",
    "            print('开始装饰1')\n",
    "            func(other_self)\n",
    "            print('结束装饰1')\n",
    "        return inner\n",
    "\n",
    "    def deracotor2(func): # 使用func代替self，调用时需使用类名调用\n",
    "\n",
    "        def inner(self):\n",
    "            print('开始装饰2')\n",
    "            func(self)\n",
    "            print('结束装饰2')\n",
    "        return inner\n",
    "\n",
    "\n",
    "    @staticmethod\n",
    "    def static_deracotor(func):  # 静态方法\n",
    "        def inner(self):\n",
    "            print('开始装饰3')\n",
    "            func(self)\n",
    "            print('结束装束3')\n",
    "        return inner\n",
    "\n",
    "    @classmethod\n",
    "    def class_deracotor(cls,func):  #类方法带有cls参数\n",
    "        def inner(self):\n",
    "            print('开始装饰4')\n",
    "            func(self)\n",
    "            print('结束装饰4')\n",
    "        return inner\n",
    "\n",
    "c = DeracotorClass() # 为了使用类中第一个装饰方法在这里需创建一个对象\n",
    "\n",
    "class People:\n",
    "    @c.deracotor1 # 使用类中的实例方法装饰\n",
    "    def my_func1(self):\n",
    "        print('my_func1')\n",
    "\n",
    "    @DeracotorClass.deracotor2  # 需要直接使用类名调用\n",
    "    def my_func2(self):\n",
    "        print('func2')\n",
    "\n",
    "    @DeracotorClass.static_deracotor # 使用装饰类中定义的静态装饰方法\n",
    "    def my_func3(self):\n",
    "        print('my_func3')\n",
    "\n",
    "    @DeracotorClass.class_deracotor  # 使用装饰类中的定义的类装饰方法\n",
    "    def my_func4(self):\n",
    "        print('my_func4')\n",
    "\n",
    "#创建一个对象\n",
    "p = People()\n",
    "\n",
    "# 调用实例方法\n",
    "p.my_func1()\n",
    "p.my_func2()\n",
    "p.my_func3()\n",
    "p.my_func4()"
   ],
   "metadata": {
    "collapsed": false,
    "pycharm": {
     "name": "#%%\n"
    }
   }
  },
  {
   "cell_type": "code",
   "execution_count": null,
   "outputs": [],
   "source": [
    "# 带参数的类装饰器\n"
   ],
   "metadata": {
    "collapsed": false,
    "pycharm": {
     "name": "#%%\n"
    }
   }
  }
 ],
 "metadata": {
  "interpreter": {
   "hash": "aee8b7b246df8f9039afb4144a1f6fd8d2ca17a180786b69acc140d282b71a49"
  },
  "kernelspec": {
   "display_name": "Python 3.10.4 64-bit",
   "language": "python",
   "name": "python3"
  },
  "language_info": {
   "codemirror_mode": {
    "name": "ipython",
    "version": 3
   },
   "file_extension": ".py",
   "mimetype": "text/x-python",
   "name": "python",
   "nbconvert_exporter": "python",
   "pygments_lexer": "ipython3",
   "version": "3.10.4"
  }
 },
 "nbformat": 4,
 "nbformat_minor": 0
}